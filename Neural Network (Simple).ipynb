{
 "cells": [
  {
   "cell_type": "code",
   "execution_count": 339,
   "metadata": {
    "collapsed": false
   },
   "outputs": [],
   "source": [
    "#import packages\n",
    "import pandas as pd\n",
    "import numpy as np\n",
    "import numpy as np\n",
    "%matplotlib inline\n",
    "import matplotlib.pyplot as plt\n",
    "import codecs\n",
    "import string\n",
    "import os\n",
    "import re\n",
    "import seaborn as sns\n",
    "import keras\n",
    "\n",
    "from sklearn.feature_extraction.text import CountVectorizer\n",
    "from sklearn.feature_extraction.text import TfidfVectorizer\n",
    "from sklearn.model_selection import train_test_split\n",
    "from keras.utils import to_categorical\n",
    "from sklearn.metrics import precision_recall_fscore_support\n",
    "\n",
    "from keras.preprocessing import sequence\n",
    "from keras import Sequential\n",
    "from keras.optimizers import Adam\n",
    "\n",
    "from keras.layers import Embedding, LSTM, Dense, Dropout, Conv1D, MaxPooling1D, Flatten, Activation, Bidirectional, RepeatVector, Input"
   ]
  },
  {
   "cell_type": "code",
   "execution_count": 340,
   "metadata": {
    "collapsed": false
   },
   "outputs": [],
   "source": [
    "#load data\n",
    "df = pd.read_csv('cleaned_text.csv')"
   ]
  },
  {
   "cell_type": "code",
   "execution_count": 341,
   "metadata": {
    "collapsed": false
   },
   "outputs": [
    {
     "data": {
      "text/html": [
       "<div>\n",
       "<table border=\"1\" class=\"dataframe\">\n",
       "  <thead>\n",
       "    <tr style=\"text-align: right;\">\n",
       "      <th></th>\n",
       "      <th>Target</th>\n",
       "      <th>Text</th>\n",
       "    </tr>\n",
       "  </thead>\n",
       "  <tbody>\n",
       "    <tr>\n",
       "      <th>0</th>\n",
       "      <td>Rejected</td>\n",
       "      <td>more than 10600 megawatts of solar power were ...</td>\n",
       "    </tr>\n",
       "    <tr>\n",
       "      <th>1</th>\n",
       "      <td>Rejected</td>\n",
       "      <td>smi reports 6 key reasons to attend this years...</td>\n",
       "    </tr>\n",
       "    <tr>\n",
       "      <th>2</th>\n",
       "      <td>Completed</td>\n",
       "      <td>dive insight utilities are beginning to see th...</td>\n",
       "    </tr>\n",
       "    <tr>\n",
       "      <th>3</th>\n",
       "      <td>Completed</td>\n",
       "      <td>united renewable energy and constellation an e...</td>\n",
       "    </tr>\n",
       "    <tr>\n",
       "      <th>4</th>\n",
       "      <td>Completed</td>\n",
       "      <td>march 30 renewables now juwi hellas a unit of ...</td>\n",
       "    </tr>\n",
       "  </tbody>\n",
       "</table>\n",
       "</div>"
      ],
      "text/plain": [
       "      Target                                               Text\n",
       "0   Rejected  more than 10600 megawatts of solar power were ...\n",
       "1   Rejected  smi reports 6 key reasons to attend this years...\n",
       "2  Completed  dive insight utilities are beginning to see th...\n",
       "3  Completed  united renewable energy and constellation an e...\n",
       "4  Completed  march 30 renewables now juwi hellas a unit of ..."
      ]
     },
     "execution_count": 341,
     "metadata": {},
     "output_type": "execute_result"
    }
   ],
   "source": [
    "df.head()"
   ]
  },
  {
   "cell_type": "code",
   "execution_count": 342,
   "metadata": {
    "collapsed": false
   },
   "outputs": [
    {
     "data": {
      "text/html": [
       "<div>\n",
       "<table border=\"1\" class=\"dataframe\">\n",
       "  <thead>\n",
       "    <tr style=\"text-align: right;\">\n",
       "      <th></th>\n",
       "      <th>Target</th>\n",
       "      <th>Text</th>\n",
       "      <th>Length</th>\n",
       "    </tr>\n",
       "  </thead>\n",
       "  <tbody>\n",
       "    <tr>\n",
       "      <th>2272</th>\n",
       "      <td>Rejected</td>\n",
       "      <td>correspondence to professor quancheng kan depa...</td>\n",
       "      <td>34541</td>\n",
       "    </tr>\n",
       "    <tr>\n",
       "      <th>798</th>\n",
       "      <td>Completed</td>\n",
       "      <td>boralex announces agreement to acquire invener...</td>\n",
       "      <td>28549</td>\n",
       "    </tr>\n",
       "    <tr>\n",
       "      <th>2022</th>\n",
       "      <td>Rejected</td>\n",
       "      <td>equity research weekly report july 20 2018 the...</td>\n",
       "      <td>16606</td>\n",
       "    </tr>\n",
       "    <tr>\n",
       "      <th>1313</th>\n",
       "      <td>Rejected</td>\n",
       "      <td>the university of michigan partnered with dte ...</td>\n",
       "      <td>15618</td>\n",
       "    </tr>\n",
       "    <tr>\n",
       "      <th>1316</th>\n",
       "      <td>Rejected</td>\n",
       "      <td>html xmlnsvurnschemasmicrosoftcomvml xmlnsourn...</td>\n",
       "      <td>14353</td>\n",
       "    </tr>\n",
       "    <tr>\n",
       "      <th>2131</th>\n",
       "      <td>Rejected</td>\n",
       "      <td>htmlh3redt energy plc red redt sign deal for 7...</td>\n",
       "      <td>13898</td>\n",
       "    </tr>\n",
       "    <tr>\n",
       "      <th>1056</th>\n",
       "      <td>Rejected</td>\n",
       "      <td>abstracttop tier growth execution and now topt...</td>\n",
       "      <td>13648</td>\n",
       "    </tr>\n",
       "    <tr>\n",
       "      <th>2601</th>\n",
       "      <td>Rejected</td>\n",
       "      <td>far off the beaten track life in the remote va...</td>\n",
       "      <td>13643</td>\n",
       "    </tr>\n",
       "    <tr>\n",
       "      <th>477</th>\n",
       "      <td>Completed</td>\n",
       "      <td>delhiheadquartered renewable energy firm hero ...</td>\n",
       "      <td>13471</td>\n",
       "    </tr>\n",
       "    <tr>\n",
       "      <th>2144</th>\n",
       "      <td>Completed</td>\n",
       "      <td>by ben potter july 25 financial review the nat...</td>\n",
       "      <td>13126</td>\n",
       "    </tr>\n",
       "  </tbody>\n",
       "</table>\n",
       "</div>"
      ],
      "text/plain": [
       "         Target                                               Text  Length\n",
       "2272   Rejected  correspondence to professor quancheng kan depa...   34541\n",
       "798   Completed  boralex announces agreement to acquire invener...   28549\n",
       "2022   Rejected  equity research weekly report july 20 2018 the...   16606\n",
       "1313   Rejected  the university of michigan partnered with dte ...   15618\n",
       "1316   Rejected  html xmlnsvurnschemasmicrosoftcomvml xmlnsourn...   14353\n",
       "2131   Rejected  htmlh3redt energy plc red redt sign deal for 7...   13898\n",
       "1056   Rejected  abstracttop tier growth execution and now topt...   13648\n",
       "2601   Rejected  far off the beaten track life in the remote va...   13643\n",
       "477   Completed  delhiheadquartered renewable energy firm hero ...   13471\n",
       "2144  Completed  by ben potter july 25 financial review the nat...   13126"
      ]
     },
     "execution_count": 342,
     "metadata": {},
     "output_type": "execute_result"
    }
   ],
   "source": [
    "df['Length'] = df['Text'].apply(len)\n",
    "df.sort_values(by='Length', ascending=False).head(10)"
   ]
  },
  {
   "cell_type": "code",
   "execution_count": 343,
   "metadata": {
    "collapsed": false
   },
   "outputs": [
    {
     "data": {
      "text/html": [
       "<div>\n",
       "<table border=\"1\" class=\"dataframe\">\n",
       "  <thead>\n",
       "    <tr style=\"text-align: right;\">\n",
       "      <th></th>\n",
       "      <th>Target</th>\n",
       "      <th>Text</th>\n",
       "      <th>Length</th>\n",
       "    </tr>\n",
       "  </thead>\n",
       "  <tbody>\n",
       "    <tr>\n",
       "      <th>951</th>\n",
       "      <td>Rejected</td>\n",
       "      <td>0 jun282018 1620 gmt</td>\n",
       "      <td>20</td>\n",
       "    </tr>\n",
       "    <tr>\n",
       "      <th>1214</th>\n",
       "      <td>Rejected</td>\n",
       "      <td>copyright 2018 rbc0 aug082018 1135 gmt</td>\n",
       "      <td>38</td>\n",
       "    </tr>\n",
       "    <tr>\n",
       "      <th>1155</th>\n",
       "      <td>Rejected</td>\n",
       "      <td>copyright 2018 rbc0 aug022018 1204 gmt</td>\n",
       "      <td>38</td>\n",
       "    </tr>\n",
       "    <tr>\n",
       "      <th>1518</th>\n",
       "      <td>Rejected</td>\n",
       "      <td>provider id 002126030 aug022018 1120 gmt</td>\n",
       "      <td>40</td>\n",
       "    </tr>\n",
       "    <tr>\n",
       "      <th>136</th>\n",
       "      <td>Rejected</td>\n",
       "      <td>copyright 2018 bmo capital markets0 aug022018 ...</td>\n",
       "      <td>54</td>\n",
       "    </tr>\n",
       "  </tbody>\n",
       "</table>\n",
       "</div>"
      ],
      "text/plain": [
       "        Target                                               Text  Length\n",
       "951   Rejected                               0 jun282018 1620 gmt      20\n",
       "1214  Rejected             copyright 2018 rbc0 aug082018 1135 gmt      38\n",
       "1155  Rejected             copyright 2018 rbc0 aug022018 1204 gmt      38\n",
       "1518  Rejected           provider id 002126030 aug022018 1120 gmt      40\n",
       "136   Rejected  copyright 2018 bmo capital markets0 aug022018 ...      54"
      ]
     },
     "execution_count": 343,
     "metadata": {},
     "output_type": "execute_result"
    }
   ],
   "source": [
    "# what are our shortest sentences?\n",
    "df.sort_values(by='Length').head(5)"
   ]
  },
  {
   "cell_type": "markdown",
   "metadata": {},
   "source": [
    "## Data Preprocessing\n",
    "\n",
    "- check classes are balanced"
   ]
  },
  {
   "cell_type": "code",
   "execution_count": 344,
   "metadata": {
    "collapsed": false
   },
   "outputs": [
    {
     "data": {
      "text/plain": [
       "<matplotlib.axes._subplots.AxesSubplot at 0x536f8fd0>"
      ]
     },
     "execution_count": 344,
     "metadata": {},
     "output_type": "execute_result"
    },
    {
     "data": {
      "image/png": "[encoded data removed]",
      "text/plain": [
       "<matplotlib.figure.Figure at 0x52e45780>"
      ]
     },
     "metadata": {},
     "output_type": "display_data"
    }
   ],
   "source": [
    "#plot the distribution of the training data\n",
    "sns.countplot(df['Target'])"
   ]
  },
  {
   "cell_type": "markdown",
   "metadata": {},
   "source": [
    "The imbalance of classes is effecting how our model trains on the training data, and thus its performance. There are various means to balance classes for classification problems. One of those means is to downsample the majority class, ie, when creating training data for the model, feed it some subset of all the observations in the majority class. The problem with this method is that you tend to throw away valuable data.\n",
    "\n",
    "A nice alternative is upsampling the minority class, ie, repeating some observations from that class to simulate a greater dataset. The problem with this method is that the model tends to overfit to the training data as it is fed duplicate observations during training."
   ]
  },
  {
   "cell_type": "code",
   "execution_count": 345,
   "metadata": {
    "collapsed": true
   },
   "outputs": [],
   "source": [
    "from sklearn.utils.multiclass import type_of_target\n",
    "from imblearn.under_sampling import RandomUnderSampler\n",
    "rus = RandomUnderSampler(random_state=0)\n",
    "X = df['Text']\n",
    "X=X.reshape(-1,1)\n",
    "y = df['Target']\n",
    "type_of_target(y)\n",
    "X_resampled, y_resampled = rus.fit_resample(X, y)"
   ]
  },
  {
   "cell_type": "code",
   "execution_count": 346,
   "metadata": {
    "collapsed": false
   },
   "outputs": [
    {
     "data": {
      "image/png": "[encoded data removed]",
      "text/plain": [
       "<matplotlib.figure.Figure at 0x53914e80>"
      ]
     },
     "metadata": {},
     "output_type": "display_data"
    }
   ],
   "source": [
    "df2 = pd.DataFrame([], columns=['Class','Total'])\n",
    "df2['Class'] = [\"Rejected\",\"Completed\"]\n",
    "df2['Total'] = [pd.value_counts(y_resampled)[0],pd.value_counts(y_resampled)[1]]\n",
    "df2.plot(kind='bar')\n",
    "plt.xlabel('Class')\n",
    "plt.ylabel('Observations')\n",
    "plt.title('Observations per Class') #We therefore have imnbalanced classes, but we will continue regarless\n",
    "plt.show()"
   ]
  },
  {
   "cell_type": "code",
   "execution_count": 347,
   "metadata": {
    "collapsed": true
   },
   "outputs": [],
   "source": [
    "#Creating pandas dataframe from numpy array\n",
    "dataset = pd.DataFrame({'Text':X_resampled[:,0],'Target':y_resampled[:,]})"
   ]
  },
  {
   "cell_type": "code",
   "execution_count": 348,
   "metadata": {
    "collapsed": true
   },
   "outputs": [],
   "source": [
    "#split up the training and test data\n",
    "x_train, x_test, y_train, y_test = train_test_split(dataset['Text'],\n",
    "                                     dataset['Target'],\n",
    "                                     test_size=0.20,\n",
    "                                     random_state=80)"
   ]
  },
  {
   "cell_type": "markdown",
   "metadata": {},
   "source": [
    "## Tokenize the text\n",
    "At this stage, the data is still in text format. The next step is to 'numericalize' the data.This process is known as tokenizing, which simply means to create a set of unique IDs to represent all of the words in the corpus."
   ]
  },
  {
   "cell_type": "code",
   "execution_count": 349,
   "metadata": {
    "collapsed": false
   },
   "outputs": [
    {
     "data": {
      "image/png": "[encoded data removed]",
      "text/plain": [
       "<matplotlib.figure.Figure at 0x2c9fd6a0>"
      ]
     },
     "metadata": {},
     "output_type": "display_data"
    }
   ],
   "source": [
    "kwargs = {\n",
    "    'ngram_range' : (1, 1),\n",
    "    'dtype' : 'int32',\n",
    "    'strip_accents' : 'unicode',\n",
    "    'decode_error' : 'replace',\n",
    "    'analyzer' : 'word'\n",
    "}\n",
    "\n",
    "vectorizer = CountVectorizer(**kwargs)\n",
    "vect_texts = vectorizer.fit_transform(list(dataset['Text']))\n",
    "all_ngrams = vectorizer.get_feature_names()\n",
    "num_ngrams = min(50, len(all_ngrams))\n",
    "all_counts = vect_texts.sum(axis=0).tolist()[0]\n",
    "\n",
    "all_ngrams, all_counts = zip(*[(n, c) for c, n in sorted(zip(all_counts, all_ngrams), reverse=True)])\n",
    "ngrams = all_ngrams[:num_ngrams]\n",
    "counts = all_counts[:num_ngrams]\n",
    "\n",
    "idx = np.arange(num_ngrams)\n",
    "\n",
    "plt.figure(figsize=(15, 10))\n",
    "plt.bar(idx, counts, width=0.8)\n",
    "plt.xlabel('N-grams')\n",
    "plt.ylabel('Frequencies')\n",
    "plt.title('Frequency distribution of ngrams')\n",
    "plt.xticks(idx, ngrams, rotation=45)\n",
    "plt.show()"
   ]
  },
  {
   "cell_type": "markdown",
   "metadata": {},
   "source": [
    "## Prepare the data\n",
    "\n",
    "- TFIDF matrix"
   ]
  },
  {
   "cell_type": "code",
   "execution_count": 350,
   "metadata": {
    "collapsed": false
   },
   "outputs": [],
   "source": [
    "# load whole corpus of words\n",
    "all_text = dataset['Text'].values\n",
    "#Total number of words \n",
    "sum(counts)\n",
    "\n",
    "max_words = len(max(dataset['Text'], key=len))"
   ]
  },
  {
   "cell_type": "code",
   "execution_count": 383,
   "metadata": {
    "collapsed": true
   },
   "outputs": [],
   "source": [
    "from sklearn.feature_selection import SelectKBest\n",
    "from sklearn.feature_selection import f_classif\n",
    "\n",
    "NGRAM_RANGE = (1, 2)\n",
    "TOP_K = 1000\n",
    "\n",
    "def ngram_vectorize(train_texts, train_labels, val_texts):\n",
    "    \n",
    "    # Learn Vocab from train texts and vectorize train and val sets\n",
    "    tfidf_vectorizer = TfidfVectorizer(ngram_range=NGRAM_RANGE\n",
    "                                       ,analyzer = 'word'\n",
    "                                       ,stop_words = None\n",
    "                                       ,strip_accents = \"ascii\"\n",
    "                                       ,min_df = 2)\n",
    "    \n",
    "    x_train = tfidf_vectorizer.fit_transform(train_texts)\n",
    "    x_val = tfidf_vectorizer.transform(val_texts)\n",
    "    \n",
    "    # Select best k features, with feature importance measured by f_classif\n",
    "    selector = SelectKBest(f_classif, k=min(TOP_K, x_train.shape[1]))\n",
    "    selector.fit(x_train, train_labels)\n",
    "    x_train = selector.transform(x_train).astype('float32')\n",
    "    x_val = selector.transform(x_val).astype('float32')\n",
    "    return x_train, x_val"
   ]
  },
  {
   "cell_type": "code",
   "execution_count": 384,
   "metadata": {
    "collapsed": true
   },
   "outputs": [],
   "source": [
    "X_train, X_test = ngram_vectorize(x_train,y_train,x_test)"
   ]
  },
  {
   "cell_type": "code",
   "execution_count": 385,
   "metadata": {
    "collapsed": false
   },
   "outputs": [
    {
     "name": "stdout",
     "output_type": "stream",
     "text": [
      "[[0]\n",
      " [0]\n",
      " [1]\n",
      " ...\n",
      " [0]\n",
      " [1]\n",
      " [1]]\n"
     ]
    }
   ],
   "source": [
    "from sklearn.preprocessing import LabelBinarizer\n",
    "encoder = LabelBinarizer()\n",
    "Y_train = encoder.fit_transform(y_train)\n",
    "Y_test = encoder.fit_transform(y_test)\n",
    "print(transfomed_label)"
   ]
  },
  {
   "cell_type": "markdown",
   "metadata": {},
   "source": [
    "## Run Neural Network"
   ]
  },
  {
   "cell_type": "code",
   "execution_count": 386,
   "metadata": {
    "collapsed": false
   },
   "outputs": [
    {
     "name": "stdout",
     "output_type": "stream",
     "text": [
      "_________________________________________________________________\n",
      "Layer (type)                 Output Shape              Param #   \n",
      "=================================================================\n",
      "dense_81 (Dense)             (None, 512)               512512    \n",
      "_________________________________________________________________\n",
      "dropout_69 (Dropout)         (None, 512)               0         \n",
      "_________________________________________________________________\n",
      "dense_82 (Dense)             (None, 256)               131328    \n",
      "_________________________________________________________________\n",
      "dropout_70 (Dropout)         (None, 256)               0         \n",
      "_________________________________________________________________\n",
      "dense_83 (Dense)             (None, 128)               32896     \n",
      "_________________________________________________________________\n",
      "dropout_71 (Dropout)         (None, 128)               0         \n",
      "_________________________________________________________________\n",
      "dense_84 (Dense)             (None, 128)               16512     \n",
      "_________________________________________________________________\n",
      "dropout_72 (Dropout)         (None, 128)               0         \n",
      "_________________________________________________________________\n",
      "dense_85 (Dense)             (None, 64)                8256      \n",
      "_________________________________________________________________\n",
      "dropout_73 (Dropout)         (None, 64)                0         \n",
      "_________________________________________________________________\n",
      "dense_86 (Dense)             (None, 32)                2080      \n",
      "_________________________________________________________________\n",
      "dropout_74 (Dropout)         (None, 32)                0         \n",
      "_________________________________________________________________\n",
      "dense_87 (Dense)             (None, 1)                 33        \n",
      "=================================================================\n",
      "Total params: 703,617\n",
      "Trainable params: 703,617\n",
      "Non-trainable params: 0\n",
      "_________________________________________________________________\n",
      "None\n"
     ]
    }
   ],
   "source": [
    "model=Sequential()\n",
    "model.add(Dense(512, input_dim=X_train.shape[1], activation='relu'))\n",
    "model.add(Dropout(0.05))\n",
    "model.add(Dense(256, activation='relu'))\n",
    "model.add(Dropout(0.1))\n",
    "model.add(Dense(128, activation='relu'))\n",
    "model.add(Dropout(0.25))\n",
    "model.add(Dense(128, activation='relu'))\n",
    "model.add(Dropout(0.25))\n",
    "model.add(Dense(64, activation='relu'))\n",
    "model.add(Dropout(0.5))\n",
    "model.add(Dense(32, activation='relu'))\n",
    "model.add(Dropout(0.5))\n",
    "model.add(Dense(1, activation='sigmoid'))\n",
    "print(model.summary())"
   ]
  },
  {
   "cell_type": "code",
   "execution_count": 387,
   "metadata": {
    "collapsed": false
   },
   "outputs": [
    {
     "name": "stdout",
     "output_type": "stream",
     "text": [
      "Train on 1256 samples, validate on 539 samples\n",
      "Epoch 1/10\n",
      "1256/1256 [==============================] - 2s 1ms/step - loss: 0.6921 - acc: 0.5271 - val_loss: 0.6852 - val_acc: 0.5733\n",
      "Epoch 2/10\n",
      "1256/1256 [==============================] - 0s 226us/step - loss: 0.6597 - acc: 0.6401 - val_loss: 0.5981 - val_acc: 0.7236\n",
      "Epoch 3/10\n",
      "1256/1256 [==============================] - 0s 226us/step - loss: 0.5224 - acc: 0.8049 - val_loss: 0.3995 - val_acc: 0.8664\n",
      "Epoch 4/10\n",
      "1256/1256 [==============================] - 0s 158us/step - loss: 0.3735 - acc: 0.8599 - val_loss: 0.4354 - val_acc: 0.8571\n",
      "Epoch 5/10\n",
      "1256/1256 [==============================] - 0s 166us/step - loss: 0.3216 - acc: 0.9029 - val_loss: 0.3382 - val_acc: 0.8646\n",
      "Epoch 6/10\n",
      "1256/1256 [==============================] - 0s 163us/step - loss: 0.2508 - acc: 0.9252 - val_loss: 0.3626 - val_acc: 0.8683\n",
      "Epoch 7/10\n",
      "1256/1256 [==============================] - 0s 160us/step - loss: 0.2058 - acc: 0.9419 - val_loss: 0.3728 - val_acc: 0.8683\n",
      "Epoch 8/10\n",
      "1256/1256 [==============================] - 0s 161us/step - loss: 0.1710 - acc: 0.9514 - val_loss: 0.4534 - val_acc: 0.8664\n",
      "Epoch 9/10\n",
      "1256/1256 [==============================] - 0s 152us/step - loss: 0.1417 - acc: 0.9602 - val_loss: 0.4764 - val_acc: 0.8664\n",
      "Epoch 10/10\n",
      "1256/1256 [==============================] - 0s 196us/step - loss: 0.0934 - acc: 0.9785 - val_loss: 0.5626 - val_acc: 0.8590\n",
      "Validation accuracy: 0.8589981306682933, loss: 0.5625970574831919\n"
     ]
    }
   ],
   "source": [
    "batch_size = 130\n",
    "num_epochs = 10\n",
    "\n",
    "model.compile(loss='binary_crossentropy', \n",
    "              #optimizer= Adam(lr=1e-03), \n",
    "              optimizer='adam',\n",
    "              metrics=['accuracy'])\n",
    "\n",
    "history = model.fit(X_train, Y_train, batch_size=batch_size, epochs=num_epochs, validation_split=0.3)\n",
    "history = history.history\n",
    "val_acc = history['val_acc'][-1]\n",
    "val_loss = history['val_loss'][-1]\n",
    "print ('Validation accuracy: {acc}, loss: {loss}'.format(\n",
    "            acc=val_acc, loss=val_loss))"
   ]
  },
  {
   "cell_type": "code",
   "execution_count": 388,
   "metadata": {
    "collapsed": false
   },
   "outputs": [
    {
     "name": "stdout",
     "output_type": "stream",
     "text": [
      "Train loss: 0.20, Train accuracy: 94.93%\n"
     ]
    }
   ],
   "source": [
    "final_loss, final_acc = model.evaluate(X_train,Y_train, verbose=0)\n",
    "print(\"Train loss: {0:.2f}, Train accuracy: {1:.2f}%\".format(final_loss, final_acc*100))"
   ]
  },
  {
   "cell_type": "code",
   "execution_count": 389,
   "metadata": {
    "collapsed": false
   },
   "outputs": [
    {
     "name": "stdout",
     "output_type": "stream",
     "text": [
      "Test loss: 0.73, Test accuracy: 83.07%\n"
     ]
    }
   ],
   "source": [
    "final_loss, final_acc = model.evaluate(X_test,Y_test,verbose=0)\n",
    "print(\"Test loss: {0:.2f}, Test accuracy: {1:.2f}%\".format(final_loss, final_acc*100))"
   ]
  },
  {
   "cell_type": "code",
   "execution_count": 390,
   "metadata": {
    "collapsed": false
   },
   "outputs": [
    {
     "name": "stdout",
     "output_type": "stream",
     "text": [
      "     0    1\n",
      "0  182   50\n",
      "1   26  191\n"
     ]
    }
   ],
   "source": [
    "from sklearn.metrics import confusion_matrix\n",
    "predictions = model.predict_classes(X_test)\n",
    "\n",
    "#fetch predictions\n",
    "preds=predictions.tolist()\n",
    "y_lbls=Y_test.tolist()\n",
    "\n",
    "cm_1 = confusion_matrix(y_lbls, preds,labels)\n",
    "print(pd.DataFrame(cm_1))"
   ]
  },
  {
   "cell_type": "markdown",
   "metadata": {},
   "source": [
    "### Add Threshold"
   ]
  },
  {
   "cell_type": "code",
   "execution_count": 401,
   "metadata": {
    "collapsed": true
   },
   "outputs": [],
   "source": [
    "def performance(X_test,Y_test,threshold):\n",
    "    predictions = model.predict_proba(X_test)\n",
    "    preds=[1 if i>=threshold else 0 for i in predictions]\n",
    "    y_lbls = Y_test.tolist()\n",
    "    cm_1 = confusion_matrix(y_lbls, preds)\n",
    "    acc = (np.diagonal(cm_1)[1] + np.diagonal(cm_1)[0])/(sum(cm_1)[1]+sum(cm_1)[0])*100\n",
    "    \n",
    "    prec1,prec2=precision_recall_fscore_support(y_pred=preds,y_true=y_lbls)[0]\n",
    "    recall1, recall2= precision_recall_fscore_support(y_pred=preds,y_true=y_lbls)[1]\n",
    "\n",
    "    \n",
    "    print(\"Threshold = {:.2f} \\nOver Accuracy: {:.2f}% \\nPrecision: [{:.2f},{:.2f}] \\nRecall: [{:.2f},{:.2f}] \\n\\nConfusion Matrix:\\n{:}\".format(threshold,acc, prec1,prec2,recall1,recall2,pd.DataFrame(cm_1)))"
   ]
  },
  {
   "cell_type": "markdown",
   "metadata": {},
   "source": [
    "### Training Accuracy"
   ]
  },
  {
   "cell_type": "code",
   "execution_count": 402,
   "metadata": {
    "collapsed": false
   },
   "outputs": [
    {
     "name": "stdout",
     "output_type": "stream",
     "text": [
      "Threshold = 1.00 \n",
      "Over Accuracy: 57.27% \n",
      "Precision: [0.54,1.00] \n",
      "Recall: [1.00,0.14] \n",
      "\n",
      "Confusion Matrix:\n",
      "     0    1\n",
      "0  905    0\n",
      "1  767  123\n"
     ]
    }
   ],
   "source": [
    "performance(X_train,Y_train,1)"
   ]
  },
  {
   "cell_type": "markdown",
   "metadata": {},
   "source": [
    "### Test Accuracy"
   ]
  },
  {
   "cell_type": "code",
   "execution_count": 403,
   "metadata": {
    "collapsed": false
   },
   "outputs": [
    {
     "name": "stdout",
     "output_type": "stream",
     "text": [
      "Threshold = 1.00 \n",
      "Over Accuracy: 55.68% \n",
      "Precision: [0.52,0.97] \n",
      "Recall: [1.00,0.15] \n",
      "\n",
      "Confusion Matrix:\n",
      "     0   1\n",
      "0  216   1\n",
      "1  198  34\n"
     ]
    }
   ],
   "source": [
    "performance(X_test,Y_test,1)"
   ]
  },
  {
   "cell_type": "markdown",
   "metadata": {},
   "source": [
    "Above can be seen as the base case - we are able to remove close to $48$% of the work items with 100% precision"
   ]
  },
  {
   "cell_type": "code",
   "execution_count": null,
   "metadata": {
    "collapsed": true
   },
   "outputs": [],
   "source": []
  }
 ],
 "metadata": {
  "kernelspec": {
   "display_name": "Python [Root]",
   "language": "python",
   "name": "Python [Root]"
  },
  "language_info": {
   "codemirror_mode": {
    "name": "ipython",
    "version": 3
   },
   "file_extension": ".py",
   "mimetype": "text/x-python",
   "name": "python",
   "nbconvert_exporter": "python",
   "pygments_lexer": "ipython3",
   "version": "3.5.2"
  }
 },
 "nbformat": 4,
 "nbformat_minor": 0
}
